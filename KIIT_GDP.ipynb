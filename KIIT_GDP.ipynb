{
 "cells": [
  {
   "cell_type": "code",
   "execution_count": 65,
   "metadata": {},
   "outputs": [
    {
     "name": "stdout",
     "output_type": "stream",
     "text": [
      "[{'complain': {'Id': 12374, 'ComplainNo': 'AFS10000001', 'ContactPerson': 'Test Entry', 'ContactPersonEmail': 'abc@gmail.com', 'ContactPersonPhoneNumber': '1234567890', 'ProblemDescription': 'sdfsdfsdfsdfsdf', 'SerialNo': '1234567890', 'ComplainStatusId': 1, 'complainstatus': {'Id': 1, 'ComplainStatus': 'New'}, 'ComplainRegDate': '2020-07-17T08:22:37.623', 'location': {'Id': 1, 'LocationName': 'NAIKKANAL TRICHUR (Manappuram Finance Ltd)', 'Office': 'THRISSUR-07', 'District': 'THRISSUR - 2 ', 'Location': 'KERALA', 'Address': 'Thrissur Naikanal Door No. XXIX / 267/6, Brothers Complex, Naikkanal, Thrissur Dt., K.L Pin - 680 001, Phone - 0487-2335544  / 8590394363', 'VendorId': 1, 'VendorList': None}, 'LocationMasterId': 1, 'ComplainType': {'Id': 1, 'ComplainType': 'Service Request'}, 'ComplainTypeId': 1, 'ModelType': {'Id': 1, 'ModelTypeName': 'Safe Camera'}, 'ModelTypeId': 1, 'ProblemType': {'Id': 2, 'ProblemTypeName': 'Laptop Problem'}, 'ProblemTypeId': 2, 'ProblemSubType': {'Id': 75, 'ProblemSubTypeName': 'Laptop Not Working', 'ProblemTypeId': 2}, 'ProblemSubTypeId': 75, 'Priority': {'Id': 4, 'Priority': 'P1'}, 'PriorityId': 4, 'ComplainAssignmentCollection': None}, 'complainassignment': None, 'OpenTime': '', 'AssignTo': '', 'CloseDate': None, 'ScheduleDate': None, 'ComplainClosureId': None, 'ComplainClosedBy': None}, {'complain': {'Id': 12375, 'ComplainNo': 'AFS10012374', 'ContactPerson': 'Username', 'ContactPersonEmail': 'User Email', 'ContactPersonPhoneNumber': 'User Contact Number', 'ProblemDescription': 'Outlook to be configured', 'SerialNo': 'ABC123', 'ComplainStatusId': 1, 'complainstatus': {'Id': 1, 'ComplainStatus': 'New'}, 'ComplainRegDate': '2020-07-21T00:00:00', 'location': {'Id': 1, 'LocationName': 'NAIKKANAL TRICHUR (Manappuram Finance Ltd)', 'Office': 'THRISSUR-07', 'District': 'THRISSUR - 2 ', 'Location': 'KERALA', 'Address': 'Thrissur Naikanal Door No. XXIX / 267/6, Brothers Complex, Naikkanal, Thrissur Dt., K.L Pin - 680 001, Phone - 0487-2335544  / 8590394363', 'VendorId': 1, 'VendorList': None}, 'LocationMasterId': 1, 'ComplainType': {'Id': 1, 'ComplainType': 'Service Request'}, 'ComplainTypeId': 1, 'ModelType': {'Id': 4, 'ModelTypeName': 'Center Camera'}, 'ModelTypeId': 4, 'ProblemType': {'Id': 1, 'ProblemTypeName': 'Desktop Problem'}, 'ProblemTypeId': 1, 'ProblemSubType': {'Id': 63, 'ProblemSubTypeName': 'System Display Problem', 'ProblemTypeId': 1}, 'ProblemSubTypeId': 63, 'Priority': {'Id': 7, 'Priority': 'P4'}, 'PriorityId': 7, 'ComplainAssignmentCollection': None}, 'complainassignment': None, 'OpenTime': '', 'AssignTo': '', 'CloseDate': None, 'ScheduleDate': None, 'ComplainClosureId': None, 'ComplainClosedBy': None}]\n",
      "2\n",
      "Finding ticket attributes and storing it in a dataframe\n",
      "12374 picked up\n",
      "Changed to In Progress\n",
      "Assigned to Aforesight\n",
      "Finding ticket attributes and storing it in a dataframe\n",
      "12375 picked up\n",
      "Changed to In Progress\n",
      "Assigned to Aforesight\n",
      "Storing values in a dataframe\n",
      "2 2 2 2 2 2 2 2 2 2 2\n",
      "df unsorted is    Incident ID                                      Description Private Log  \\\n",
      "0        12374   {'Id': 2, 'ProblemTypeName': 'Laptop Problem'}        None   \n",
      "1        12375  {'Id': 1, 'ProblemTypeName': 'Desktop Problem'}        None   \n",
      "\n",
      "       Caller Tenant      User_Mail  \\\n",
      "0  Test Entry   None  abc@gmail.com   \n",
      "1    Username   None     User Email   \n",
      "\n",
      "                                            Location Medium Source  \\\n",
      "0  {'Id': 1, 'LocationName': 'NAIKKANAL TRICHUR (...   None   None   \n",
      "1  {'Id': 1, 'LocationName': 'NAIKKANAL TRICHUR (...   None   None   \n",
      "\n",
      "               Logged Time                      Urgency  \\\n",
      "0  2020-07-17T08:22:37.623  {'Id': 4, 'Priority': 'P1'}   \n",
      "1      2020-07-21T00:00:00  {'Id': 7, 'Priority': 'P4'}   \n",
      "\n",
      "                        Impact Priority                   Work Group  \\\n",
      "0  {'Id': 4, 'Priority': 'P1'}       P1  {'Id': 4, 'Priority': 'P1'}   \n",
      "1  {'Id': 7, 'Priority': 'P4'}       P4  {'Id': 7, 'Priority': 'P4'}   \n",
      "\n",
      "                   Assigned To Service Window  \n",
      "0  {'Id': 4, 'Priority': 'P1'}           None  \n",
      "1  {'Id': 7, 'Priority': 'P4'}           None  \n",
      "df sorted is    Incident ID                                      Description Private Log  \\\n",
      "0        12374   {'Id': 2, 'ProblemTypeName': 'Laptop Problem'}        None   \n",
      "1        12375  {'Id': 1, 'ProblemTypeName': 'Desktop Problem'}        None   \n",
      "\n",
      "       Caller Tenant      User_Mail  \\\n",
      "0  Test Entry   None  abc@gmail.com   \n",
      "1    Username   None     User Email   \n",
      "\n",
      "                                            Location Medium Source  \\\n",
      "0  {'Id': 1, 'LocationName': 'NAIKKANAL TRICHUR (...   None   None   \n",
      "1  {'Id': 1, 'LocationName': 'NAIKKANAL TRICHUR (...   None   None   \n",
      "\n",
      "               Logged Time                      Urgency  \\\n",
      "0  2020-07-17T08:22:37.623  {'Id': 4, 'Priority': 'P1'}   \n",
      "1      2020-07-21T00:00:00  {'Id': 7, 'Priority': 'P4'}   \n",
      "\n",
      "                        Impact Priority                   Work Group  \\\n",
      "0  {'Id': 4, 'Priority': 'P1'}       P1  {'Id': 4, 'Priority': 'P1'}   \n",
      "1  {'Id': 7, 'Priority': 'P4'}       P4  {'Id': 7, 'Priority': 'P4'}   \n",
      "\n",
      "                   Assigned To Service Window  \n",
      "0  {'Id': 4, 'Priority': 'P1'}           None  \n",
      "1  {'Id': 7, 'Priority': 'P4'}           None  \n",
      "Calling the prediction script for ticket classification\n",
      "Done\n"
     ]
    }
   ],
   "source": []
  },
  {
   "cell_type": "code",
   "execution_count": 63,
   "metadata": {},
   "outputs": [
    {
     "data": {
      "text/plain": [
       "'C:\\\\Users\\\\Gaurav\\\\Desktop'"
      ]
     },
     "execution_count": 63,
     "metadata": {},
     "output_type": "execute_result"
    }
   ],
   "source": [
    "pwd"
   ]
  },
  {
   "cell_type": "code",
   "execution_count": null,
   "metadata": {},
   "outputs": [],
   "source": []
  },
  {
   "cell_type": "code",
   "execution_count": null,
   "metadata": {},
   "outputs": [],
   "source": []
  }
 ],
 "metadata": {
  "kernelspec": {
   "display_name": "Python 3",
   "language": "python",
   "name": "python3"
  },
  "language_info": {
   "codemirror_mode": {
    "name": "ipython",
    "version": 3
   },
   "file_extension": ".py",
   "mimetype": "text/x-python",
   "name": "python",
   "nbconvert_exporter": "python",
   "pygments_lexer": "ipython3",
   "version": "3.7.6"
  }
 },
 "nbformat": 4,
 "nbformat_minor": 4
}
